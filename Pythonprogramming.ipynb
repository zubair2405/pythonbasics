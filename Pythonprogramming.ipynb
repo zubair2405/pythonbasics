{
 "cells": [
  {
   "cell_type": "markdown",
   "metadata": {},
   "source": [
    "write a program to check if the first threecharacters of two strings are same\n",
    "#sample input\n",
    "banana              banana\n",
    "ball                bank\n",
    "#sample output\n",
    "False               True"
   ]
  },
  {
   "cell_type": "code",
   "execution_count": 1,
   "metadata": {},
   "outputs": [
    {
     "name": "stdout",
     "output_type": "stream",
     "text": [
      "True\n"
     ]
    }
   ],
   "source": [
    "first_string=input()\n",
    "second_string=input()\n",
    "first_string_part=first_string[:3]\n",
    "second_string_part=second_string[:3]\n",
    "result=first_string_part==second_string_part\n",
    "print(result)"
   ]
  }
 ],
 "metadata": {
  "kernelspec": {
   "display_name": "Python 3",
   "language": "python",
   "name": "python3"
  },
  "language_info": {
   "codemirror_mode": {
    "name": "ipython",
    "version": 3
   },
   "file_extension": ".py",
   "mimetype": "text/x-python",
   "name": "python",
   "nbconvert_exporter": "python",
   "pygments_lexer": "ipython3",
   "version": "3.12.5"
  }
 },
 "nbformat": 4,
 "nbformat_minor": 2
}
