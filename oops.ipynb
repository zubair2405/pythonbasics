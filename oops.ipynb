{
 "cells": [
  {
   "cell_type": "markdown",
   "metadata": {},
   "source": [
    "Object-Oriented Programming"
   ]
  },
  {
   "cell_type": "code",
   "execution_count": 1,
   "metadata": {},
   "outputs": [
    {
     "data": {
      "text/plain": [
       "'galaxy'"
      ]
     },
     "execution_count": 1,
     "metadata": {},
     "output_type": "execute_result"
    }
   ],
   "source": [
    "class Mobile:\n",
    "    def __init__(self,model):\n",
    "        self.model=model\n",
    "    def get_model(self,model):\n",
    "        self.model=model\n",
    "        print(self.model)\n",
    "obj_1=Mobile(\"galaxy\")\n",
    "obj_1.model"
   ]
  },
  {
   "cell_type": "markdown",
   "metadata": {},
   "source": [
    "Lets model the scenario of shopping cart of ecommerce site"
   ]
  },
  {
   "cell_type": "code",
   "execution_count": 5,
   "metadata": {},
   "outputs": [
    {
     "name": "stdout",
     "output_type": "stream",
     "text": [
      "{'Book': 10}\n",
      "{'Book': 10, 'Laptop': 1}\n",
      "{'Book': 5, 'Laptop': 1}\n"
     ]
    }
   ],
   "source": [
    "class Cart:\n",
    "    def __init__(self):\n",
    "        self.items={}\n",
    "\n",
    "    def add_item(self,item_name,quantity):\n",
    "        self.items[item_name]=quantity\n",
    "\n",
    "    def remove_item(self,item_name):\n",
    "        del self.items[item_name]\n",
    "\n",
    "    def update_quantity(self,item_name,quantity):\n",
    "        self.items[item_name]=quantity\n",
    "\n",
    "    def get_items(self):\n",
    "        print(self.items)\n",
    "\n",
    "cart_obj=Cart()\n",
    "cart_obj.add_item(\"Book\",10)\n",
    "cart_obj.get_items()\n",
    "\n",
    "cart_obj.add_item(\"Laptop\",1)\n",
    "cart_obj.get_items()\n",
    "\n",
    "#cart_obj.remove_item(\"Book\")\n",
    "#cart_obj.get_items()\n",
    "\n",
    "cart_obj.update_quantity(\"Book\",5)\n",
    "cart_obj.get_items()"
   ]
  },
  {
   "cell_type": "markdown",
   "metadata": {},
   "source": [
    "list of items"
   ]
  },
  {
   "cell_type": "code",
   "execution_count": 10,
   "metadata": {},
   "outputs": [
    {
     "name": "stdout",
     "output_type": "stream",
     "text": [
      "['Book']\n",
      "['Book', 'Laptop']\n",
      "['Book', 'Laptop']\n",
      "30150\n"
     ]
    }
   ],
   "source": [
    "class Cart:\n",
    "    def __init__(self):\n",
    "        self.items={}\n",
    "        self.price_details={\"Book\":10,\"Laptop\":30000}\n",
    "\n",
    "    def add_item(self,item_name,quantity):\n",
    "        self.items[item_name]=quantity\n",
    "\n",
    "    def remove_item(self,item_name):\n",
    "        del self.items[item_name]\n",
    "\n",
    "    def update_quantity(self,item_name,quantity):\n",
    "        self.items[item_name]=quantity\n",
    "\n",
    "    def get_items(self):\n",
    "        item_list=[]\n",
    "        item_list=list(self.items.keys())\n",
    "        print(item_list)\n",
    "\n",
    "    def get_total_price(self):\n",
    "        total_price=0\n",
    "        for item_name,quantity in self.items.items():\n",
    "            total_price+=self.price_details[item_name]*quantity\n",
    "        return total_price\n",
    "\n",
    "cart_obj=Cart()\n",
    "cart_obj.add_item(\"Book\",10)\n",
    "cart_obj.get_items()\n",
    "\n",
    "cart_obj.add_item(\"Laptop\",1)\n",
    "cart_obj.get_items()\n",
    "\n",
    "cart_obj.update_quantity(\"Book\",15)\n",
    "cart_obj.get_items()\n",
    "\n",
    "print(cart_obj.get_total_price())"
   ]
  },
  {
   "cell_type": "markdown",
   "metadata": {},
   "source": [
    "Inheritance\n",
    "inheritance  is a mechanism by which a class inherits attributes and methods from another class "
   ]
  },
  {
   "cell_type": "code",
   "execution_count": 2,
   "metadata": {},
   "outputs": [
    {
     "name": "stdout",
     "output_type": "stream",
     "text": [
      "Product Name: Book\n",
      "Price: 30\n",
      "Deal Price: 25\n",
      "Ratings: 4.5\n",
      "You save: 5\n"
     ]
    }
   ],
   "source": [
    "class Product:\n",
    "    def __init__(self,name,price,deal_price,ratings):\n",
    "        self.name=name\n",
    "        self.price=price\n",
    "        self.deal_price=deal_price\n",
    "        self.ratings=ratings\n",
    "        self.you_save=price-deal_price\n",
    "    def display_product_details(self):\n",
    "        print(\"Product Name: {}\".format(self.name))\n",
    "        print(\"Price: {}\".format(self.price))\n",
    "        print(\"Deal Price: {}\".format(self.deal_price))\n",
    "        print(\"Ratings: {}\".format(self.ratings))\n",
    "        print(\"You save: {}\".format(self.you_save))\n",
    "p=Product(\"Book\",30,25,4.5)\n",
    "p.display_product_details()"
   ]
  },
  {
   "cell_type": "markdown",
   "metadata": {},
   "source": [
    "inheritance\n",
    "Sub Class\n",
    "The subclass automatically inherits all the attributes & methods from its superclass\n",
    "superclass=product\n",
    "subclasses=ElectronicItem , GrossaryItem"
   ]
  },
  {
   "cell_type": "code",
   "execution_count": 20,
   "metadata": {},
   "outputs": [
    {
     "name": "stdout",
     "output_type": "stream",
     "text": [
      "Product Name: Camera\n",
      "Price: 30000\n",
      "Deal Price: 25000\n",
      "Ratings: 4\n",
      "You save: 5000\n",
      "\n",
      "Product Name: Biscuits\n",
      "Price: 100\n",
      "Deal Price: 70\n",
      "Ratings: 4.7\n",
      "You save: 30\n"
     ]
    }
   ],
   "source": [
    "class Product:\n",
    "    def __init__(self,name,price,deal_price,ratings):\n",
    "        self.name=name\n",
    "        self.price=price\n",
    "        self.deal_price=deal_price\n",
    "        self.ratings=ratings\n",
    "        self.you_save=price-deal_price\n",
    "    def display_product_details(self):\n",
    "        print(\"Product Name: {}\".format(self.name))\n",
    "        print(\"Price: {}\".format(self.price))\n",
    "        print(\"Deal Price: {}\".format(self.deal_price))\n",
    "        print(\"Ratings: {}\".format(self.ratings))\n",
    "        print(\"You save: {}\".format(self.you_save))\n",
    "\n",
    "class ElectronicItem(Product):\n",
    "    pass\n",
    "class GrossaryItem(Product):\n",
    "    pass\n",
    "e_item=ElectronicItem(\"Camera\",30000,25000,4)\n",
    "e_item.display_product_details()\n",
    "\n",
    "print()\n",
    "\n",
    "g_item=GrossaryItem(\"Biscuits\",100,70,4.7)\n",
    "g_item.display_product_details()"
   ]
  },
  {
   "cell_type": "markdown",
   "metadata": {},
   "source": [
    "Sub Class\n",
    "methods "
   ]
  },
  {
   "cell_type": "code",
   "execution_count": 13,
   "metadata": {},
   "outputs": [
    {
     "data": {
      "text/plain": [
       "24"
      ]
     },
     "execution_count": 13,
     "metadata": {},
     "output_type": "execute_result"
    }
   ],
   "source": [
    "class Product:\n",
    "    def __init__(self,name,price,deal_price,ratings):\n",
    "        self.name=name\n",
    "        self.price=price\n",
    "        self.deal_price=deal_price\n",
    "        self.ratings=ratings\n",
    "        self.you_save=price-deal_price\n",
    "    def display_product_details(self):\n",
    "        print(\"Product Name: {}\".format(self.name))\n",
    "        print(\"Price: {}\".format(self.price))\n",
    "        print(\"Deal Price: {}\".format(self.deal_price))\n",
    "        print(\"Ratings: {}\".format(self.ratings))\n",
    "        print(\"You save: {}\".format(self.you_save))\n",
    "\n",
    "class ElectronicItem(Product):\n",
    "    def set_warranty(self,warranty_in_months):\n",
    "        self.warranty_in_months=warranty_in_months\n",
    "    \n",
    "    def get_warranty(self):\n",
    "        return self.warranty_in_months\n",
    "    \n",
    "class GrossaryItem(Product):\n",
    "    pass\n",
    "e_item=ElectronicItem(\"Camera\",30000,25000,4)\n",
    "e_item.set_warranty(24)\n",
    "e_item.get_warranty()"
   ]
  },
  {
   "cell_type": "markdown",
   "metadata": {},
   "source": [
    "superclass attributes are access to subclass\n",
    "subclass attributes are not  access to superclass\n",
    "We can call methods defined in super class from the methods in sub class, but not reverse"
   ]
  },
  {
   "cell_type": "code",
   "execution_count": 25,
   "metadata": {},
   "outputs": [
    {
     "name": "stdout",
     "output_type": "stream",
     "text": [
      "Product Name: TV\n",
      "Price: 45000\n",
      "Deal Price: 40000\n",
      "Ratings: 3.5\n",
      "You save: 5000\n"
     ]
    }
   ],
   "source": [
    "class Product:\n",
    "    def __init__(self,name,price,deal_price,ratings):\n",
    "        self.name=name\n",
    "        self.price=price\n",
    "        self.deal_price=deal_price\n",
    "        self.ratings=ratings\n",
    "        self.you_save=price-deal_price\n",
    "    def display_product_details(self):\n",
    "        print(\"Product Name: {}\".format(self.name))\n",
    "        print(\"Price: {}\".format(self.price))\n",
    "        print(\"Deal Price: {}\".format(self.deal_price))\n",
    "        print(\"Ratings: {}\".format(self.ratings))\n",
    "        print(\"You save: {}\".format(self.you_save))\n",
    "\n",
    "class ElectronicItem(Product):\n",
    "\n",
    "    def set_warranty(self,warranty_in_months):\n",
    "        self.warranty_in_months=warranty_in_months\n",
    "    \n",
    "    def get_warranty(self):\n",
    "        return self.warranty_in_months\n",
    "    \n",
    "class GrossaryItem(Product):\n",
    "\n",
    "    def set_expiry_date(self,expiry_date):\n",
    "        self.expiry_date=expiry_date\n",
    "\n",
    "    def get_expiry_date(self):\n",
    "        return self.expiry_date\n",
    "    \n",
    "#e_item=Product(\"Camera\",30000,25000,4)\n",
    "#e_item.set_warranty(24)\n",
    "e_item=ElectronicItem(\"TV\",45000,40000,3.5)\n",
    "e_item.set_warranty(24)\n",
    "e_item.display_product_details()"
   ]
  },
  {
   "cell_type": "markdown",
   "metadata": {},
   "source": [
    "Sub Class\n",
    "we can call methods defined in super class from the methods in the sub class"
   ]
  },
  {
   "cell_type": "code",
   "execution_count": 26,
   "metadata": {},
   "outputs": [
    {
     "name": "stdout",
     "output_type": "stream",
     "text": [
      "Product Name: TV\n",
      "Price: 45000\n",
      "Deal Price: 40000\n",
      "Ratings: 3.5\n",
      "You save: 5000\n",
      "Warranty in months: 24\n"
     ]
    }
   ],
   "source": [
    "class Product:\n",
    "    def __init__(self,name,price,deal_price,ratings):\n",
    "        self.name=name\n",
    "        self.price=price\n",
    "        self.deal_price=deal_price\n",
    "        self.ratings=ratings\n",
    "        self.you_save=price-deal_price\n",
    "    def display_product_details(self):\n",
    "        print(\"Product Name: {}\".format(self.name))\n",
    "        print(\"Price: {}\".format(self.price))\n",
    "        print(\"Deal Price: {}\".format(self.deal_price))\n",
    "        print(\"Ratings: {}\".format(self.ratings))\n",
    "        print(\"You save: {}\".format(self.you_save))\n",
    "\n",
    "class ElectronicItem(Product):\n",
    "\n",
    "    def set_warranty(self,warranty_in_months):\n",
    "        self.warranty_in_months=warranty_in_months\n",
    "    \n",
    "    def get_warranty(self):\n",
    "        return self.warranty_in_months\n",
    "    \n",
    "    def display_electronic_item_details(self):\n",
    "        self.display_product_details()\n",
    "        print(\"Warranty in months: {}\".format(self.warranty_in_months))\n",
    "    \n",
    "class GrossaryItem(Product):\n",
    "\n",
    "    def set_expiry_date(self,expiry_date):\n",
    "        self.expiry_date=expiry_date\n",
    "\n",
    "    def get_expiry_date(self):\n",
    "        return self.expiry_date\n",
    "    \n",
    "#e_item=Product(\"Camera\",30000,25000,4)\n",
    "#e_item.set_warranty(24)\n",
    "e_item=ElectronicItem(\"TV\",45000,40000,3.5)\n",
    "e_item.set_warranty(24)\n",
    "e_item.display_electronic_item_details()"
   ]
  },
  {
   "cell_type": "markdown",
   "metadata": {},
   "source": [
    "scenario\n",
    "how would you design and implement placing order with the details of all the products bought?\n",
    "modelling class\n",
    "COMPOSITION\n",
    "Modelling instances of one class as attributes of another class is called COMPOSITION\n",
    "PRODUCT as attribute of ORDER\n",
    "\n"
   ]
  },
  {
   "cell_type": "code",
   "execution_count": 28,
   "metadata": {},
   "outputs": [
    {
     "name": "stdout",
     "output_type": "stream",
     "text": [
      "Product Name: TV\n",
      "Price: 45000\n",
      "Deal Price: 40000\n",
      "Ratings: 3.5\n",
      "You save: 5000\n",
      "Quantity: 1\n",
      "\n",
      "Product Name: Milk\n",
      "Price: 40\n",
      "Deal Price: 25\n",
      "Ratings: 4\n",
      "You save: 15\n",
      "Quantity: 5\n",
      "\n",
      "Total Bill: 40125\n"
     ]
    },
    {
     "data": {
      "text/plain": [
       "40125"
      ]
     },
     "execution_count": 28,
     "metadata": {},
     "output_type": "execute_result"
    }
   ],
   "source": [
    "class Product:\n",
    "    def __init__(self,name,price,deal_price,ratings):\n",
    "        self.name=name\n",
    "        self.price=price\n",
    "        self.deal_price=deal_price\n",
    "        self.ratings=ratings\n",
    "        self.you_save=price-deal_price\n",
    "    def display_product_details(self):\n",
    "        print(\"Product Name: {}\".format(self.name))\n",
    "        print(\"Price: {}\".format(self.price))\n",
    "        print(\"Deal Price: {}\".format(self.deal_price))\n",
    "        print(\"Ratings: {}\".format(self.ratings))\n",
    "        print(\"You save: {}\".format(self.you_save))\n",
    "\n",
    "    def get_deal_price(self):\n",
    "        return self.deal_price\n",
    "\n",
    "class ElectronicItem(Product):\n",
    "\n",
    "    def set_warranty(self,warranty_in_months):\n",
    "        self.warranty_in_months=warranty_in_months\n",
    "    \n",
    "    def get_warranty(self):\n",
    "        return self.warranty_in_months\n",
    "    \n",
    "    def display_electronic_item_details(self):\n",
    "        self.display_product_details()\n",
    "        print(\"Warranty in months: {}\".format(self.warranty_in_months))\n",
    "    \n",
    "class GrossaryItem(Product):\n",
    "\n",
    "    def set_expiry_date(self,expiry_date):\n",
    "        self.expiry_date=expiry_date\n",
    "\n",
    "    def get_expiry_date(self):\n",
    "        return self.expiry_date\n",
    "\n",
    "class Order():\n",
    "    def __init__(self,delivery_speed,delivery_address):\n",
    "        self.items_in_cart=[]\n",
    "        self.delivery_speed=delivery_speed\n",
    "        self.delivery_address=delivery_address\n",
    "\n",
    "    def add_item(self,product,quantity):\n",
    "        self.items_in_cart.append((product,quantity))\n",
    "\n",
    "    def display_order_details(self):\n",
    "        for product,quantity in self.items_in_cart:\n",
    "            product.display_product_details() #This does not print warranty details when an Electronic item is in the order.\n",
    "            print(\"Quantity: {}\".format(quantity))\n",
    "            print()\n",
    "\n",
    "    def get_total_bill(self):\n",
    "        total_bill=0\n",
    "        for product,quantity in self.items_in_cart:\n",
    "            price=product.get_deal_price()*quantity\n",
    "            total_bill+=price\n",
    "        print(\"Total Bill: {}\".format(total_bill))\n",
    "        return total_bill\n",
    "\n",
    "tv=ElectronicItem(\"TV\",45000,40000,3.5)\n",
    "tv.set_warranty(3)\n",
    "\n",
    "milk=GrossaryItem(\"Milk\",40,25,4)\n",
    "milk.set_expiry_date(\"2024\")\n",
    "\n",
    "my_order=Order(\"Prime Delivery\",\"Hyderabad\")\n",
    "my_order.add_item(tv,1)\n",
    "my_order.add_item(milk,5)\n",
    "\n",
    "my_order.display_order_details()\n",
    "my_order.get_total_bill()\n"
   ]
  },
  {
   "cell_type": "markdown",
   "metadata": {},
   "source": [
    "Sub Class\n",
    "how do we print warranty ElectronicItem along with product details when used in display_order_details?\n",
    "inheritance\n",
    "Overriding Methods\n",
    "Sometimes we require a method in the instances of a sub class to behave differently from the method in instance of a superclass\n"
   ]
  },
  {
   "cell_type": "code",
   "execution_count": 2,
   "metadata": {},
   "outputs": [
    {
     "ename": "RecursionError",
     "evalue": "maximum recursion depth exceeded",
     "output_type": "error",
     "traceback": [
      "\u001b[1;31m---------------------------------------------------------------------------\u001b[0m",
      "\u001b[1;31mRecursionError\u001b[0m                            Traceback (most recent call last)",
      "Cell \u001b[1;32mIn[2], line 75\u001b[0m\n\u001b[0;32m     72\u001b[0m my_order\u001b[38;5;241m.\u001b[39madd_item(tv,\u001b[38;5;241m1\u001b[39m)\n\u001b[0;32m     73\u001b[0m my_order\u001b[38;5;241m.\u001b[39madd_item(milk,\u001b[38;5;241m5\u001b[39m)\n\u001b[1;32m---> 75\u001b[0m \u001b[43mmy_order\u001b[49m\u001b[38;5;241;43m.\u001b[39;49m\u001b[43mdisplay_order_details\u001b[49m\u001b[43m(\u001b[49m\u001b[43m)\u001b[49m\n\u001b[0;32m     76\u001b[0m my_order\u001b[38;5;241m.\u001b[39mget_total_bill()\n",
      "Cell \u001b[1;32mIn[2], line 53\u001b[0m, in \u001b[0;36mOrder.display_order_details\u001b[1;34m(self)\u001b[0m\n\u001b[0;32m     51\u001b[0m \u001b[38;5;28;01mdef\u001b[39;00m \u001b[38;5;21mdisplay_order_details\u001b[39m(\u001b[38;5;28mself\u001b[39m):\n\u001b[0;32m     52\u001b[0m     \u001b[38;5;28;01mfor\u001b[39;00m product,quantity \u001b[38;5;129;01min\u001b[39;00m \u001b[38;5;28mself\u001b[39m\u001b[38;5;241m.\u001b[39mitems_in_cart:\n\u001b[1;32m---> 53\u001b[0m         \u001b[43mproduct\u001b[49m\u001b[38;5;241;43m.\u001b[39;49m\u001b[43mdisplay_product_details\u001b[49m\u001b[43m(\u001b[49m\u001b[43m)\u001b[49m \u001b[38;5;66;03m#This does not print warranty details when an Electronic item is in the order.\u001b[39;00m\n\u001b[0;32m     54\u001b[0m         \u001b[38;5;28mprint\u001b[39m(\u001b[38;5;124m\"\u001b[39m\u001b[38;5;124mQuantity: \u001b[39m\u001b[38;5;132;01m{}\u001b[39;00m\u001b[38;5;124m\"\u001b[39m\u001b[38;5;241m.\u001b[39mformat(quantity))\n\u001b[0;32m     55\u001b[0m         \u001b[38;5;28mprint\u001b[39m()\n",
      "Cell \u001b[1;32mIn[2], line 31\u001b[0m, in \u001b[0;36mElectronicItem.display_product_details\u001b[1;34m(self)\u001b[0m\n\u001b[0;32m     30\u001b[0m \u001b[38;5;28;01mdef\u001b[39;00m \u001b[38;5;21mdisplay_product_details\u001b[39m(\u001b[38;5;28mself\u001b[39m):\n\u001b[1;32m---> 31\u001b[0m     \u001b[38;5;28;43mself\u001b[39;49m\u001b[38;5;241;43m.\u001b[39;49m\u001b[43mdisplay_product_details\u001b[49m\u001b[43m(\u001b[49m\u001b[43m)\u001b[49m\n\u001b[0;32m     32\u001b[0m     \u001b[38;5;28mprint\u001b[39m(\u001b[38;5;124m\"\u001b[39m\u001b[38;5;124mWarranty in Months: \u001b[39m\u001b[38;5;132;01m{}\u001b[39;00m\u001b[38;5;124m\"\u001b[39m\u001b[38;5;241m.\u001b[39mformat(\u001b[38;5;28mself\u001b[39m\u001b[38;5;241m.\u001b[39mwarranty_in_months))\n",
      "Cell \u001b[1;32mIn[2], line 31\u001b[0m, in \u001b[0;36mElectronicItem.display_product_details\u001b[1;34m(self)\u001b[0m\n\u001b[0;32m     30\u001b[0m \u001b[38;5;28;01mdef\u001b[39;00m \u001b[38;5;21mdisplay_product_details\u001b[39m(\u001b[38;5;28mself\u001b[39m):\n\u001b[1;32m---> 31\u001b[0m     \u001b[38;5;28;43mself\u001b[39;49m\u001b[38;5;241;43m.\u001b[39;49m\u001b[43mdisplay_product_details\u001b[49m\u001b[43m(\u001b[49m\u001b[43m)\u001b[49m\n\u001b[0;32m     32\u001b[0m     \u001b[38;5;28mprint\u001b[39m(\u001b[38;5;124m\"\u001b[39m\u001b[38;5;124mWarranty in Months: \u001b[39m\u001b[38;5;132;01m{}\u001b[39;00m\u001b[38;5;124m\"\u001b[39m\u001b[38;5;241m.\u001b[39mformat(\u001b[38;5;28mself\u001b[39m\u001b[38;5;241m.\u001b[39mwarranty_in_months))\n",
      "    \u001b[1;31m[... skipping similar frames: ElectronicItem.display_product_details at line 31 (2973 times)]\u001b[0m\n",
      "Cell \u001b[1;32mIn[2], line 31\u001b[0m, in \u001b[0;36mElectronicItem.display_product_details\u001b[1;34m(self)\u001b[0m\n\u001b[0;32m     30\u001b[0m \u001b[38;5;28;01mdef\u001b[39;00m \u001b[38;5;21mdisplay_product_details\u001b[39m(\u001b[38;5;28mself\u001b[39m):\n\u001b[1;32m---> 31\u001b[0m     \u001b[38;5;28;43mself\u001b[39;49m\u001b[38;5;241;43m.\u001b[39;49m\u001b[43mdisplay_product_details\u001b[49m\u001b[43m(\u001b[49m\u001b[43m)\u001b[49m\n\u001b[0;32m     32\u001b[0m     \u001b[38;5;28mprint\u001b[39m(\u001b[38;5;124m\"\u001b[39m\u001b[38;5;124mWarranty in Months: \u001b[39m\u001b[38;5;132;01m{}\u001b[39;00m\u001b[38;5;124m\"\u001b[39m\u001b[38;5;241m.\u001b[39mformat(\u001b[38;5;28mself\u001b[39m\u001b[38;5;241m.\u001b[39mwarranty_in_months))\n",
      "\u001b[1;31mRecursionError\u001b[0m: maximum recursion depth exceeded"
     ]
    }
   ],
   "source": [
    "class Product:\n",
    "    def __init__(self,name,price,deal_price,ratings):\n",
    "        self.name=name\n",
    "        self.price=price\n",
    "        self.deal_price=deal_price\n",
    "        self.ratings=ratings\n",
    "        self.you_save=price-deal_price\n",
    "    def display_product_details(self):\n",
    "        print(\"Product Name: {}\".format(self.name))\n",
    "        print(\"Price: {}\".format(self.price))\n",
    "        print(\"Deal Price: {}\".format(self.deal_price))\n",
    "        print(\"Ratings: {}\".format(self.ratings))\n",
    "        print(\"You save: {}\".format(self.you_save))\n",
    "\n",
    "    def get_deal_price(self):\n",
    "        return self.deal_price\n",
    "\n",
    "class ElectronicItem(Product):\n",
    "\n",
    "    def set_warranty(self,warranty_in_months):\n",
    "        self.warranty_in_months=warranty_in_months\n",
    "    \n",
    "    def get_warranty(self):\n",
    "        return self.warranty_in_months\n",
    "    \n",
    "    def display_electronic_item_details(self):\n",
    "        self.display_product_details()\n",
    "        print(\"Warranty in months: {}\".format(self.warranty_in_months))\n",
    "\n",
    "    def display_product_details(self):\n",
    "        self.display_product_details()\n",
    "        print(\"Warranty in Months: {}\".format(self.warranty_in_months))\n",
    "    \n",
    "class GrossaryItem(Product):\n",
    "\n",
    "    def set_expiry_date(self,expiry_date):\n",
    "        self.expiry_date=expiry_date\n",
    "\n",
    "    def get_expiry_date(self):\n",
    "        return self.expiry_date\n",
    "\n",
    "class Order():\n",
    "    def __init__(self,delivery_speed,delivery_address):\n",
    "        self.items_in_cart=[]\n",
    "        self.delivery_speed=delivery_speed\n",
    "        self.delivery_address=delivery_address\n",
    "\n",
    "    def add_item(self,product,quantity):\n",
    "        self.items_in_cart.append((product,quantity))\n",
    "\n",
    "    def display_order_details(self):\n",
    "        for product,quantity in self.items_in_cart:\n",
    "            product.display_product_details() #This does not print warranty details when an Electronic item is in the order.\n",
    "            print(\"Quantity: {}\".format(quantity))\n",
    "            print()\n",
    "\n",
    "    def get_total_bill(self):\n",
    "        total_bill=0\n",
    "        for product,quantity in self.items_in_cart:\n",
    "            price=product.get_deal_price()*quantity\n",
    "            total_bill+=price\n",
    "        print(\"Total Bill: {}\".format(total_bill))\n",
    "        return total_bill\n",
    "\n",
    "tv=ElectronicItem(\"TV\",45000,40000,3.5)\n",
    "tv.set_warranty(3)\n",
    "\n",
    "milk=GrossaryItem(\"Milk\",40,25,4)\n",
    "milk.set_expiry_date(\"2024\")\n",
    "\n",
    "my_order=Order(\"Prime Delivery\",\"Hyderabad\")\n",
    "my_order.add_item(tv,1)\n",
    "my_order.add_item(milk,5)\n",
    "\n",
    "my_order.display_order_details()\n",
    "my_order.get_total_bill()\n"
   ]
  },
  {
   "cell_type": "markdown",
   "metadata": {},
   "source": [
    "Because this does not call the method in the superclass"
   ]
  },
  {
   "cell_type": "markdown",
   "metadata": {},
   "source": [
    "inheritance\n",
    "Overriding Methods\n",
    "we should make call to the display_product_details method of Product(super) class instead\n",
    "\n",
    "Accessing Super Class's Method\n",
    "super() allows us to call methods of the superclass (Product) frrom the subclass"
   ]
  },
  {
   "cell_type": "code",
   "execution_count": 13,
   "metadata": {},
   "outputs": [
    {
     "name": "stdout",
     "output_type": "stream",
     "text": [
      "Product Name: TV\n",
      "Price: 45000\n",
      "Deal Price: 40000\n",
      "Ratings: 3.5\n",
      "You save: 5000\n",
      "Warranty in Months: 3\n",
      "Quantity: 1\n",
      "\n",
      "Product Name: Milk\n",
      "Price: 40\n",
      "Deal Price: 25\n",
      "Ratings: 4\n",
      "You save: 15\n",
      "Expiry Date: 2024\n",
      "Quantity: 5\n",
      "\n",
      "Total Bill: 40125\n"
     ]
    },
    {
     "data": {
      "text/plain": [
       "40125"
      ]
     },
     "execution_count": 13,
     "metadata": {},
     "output_type": "execute_result"
    }
   ],
   "source": [
    "class Product:\n",
    "    def __init__(self,name,price,deal_price,ratings):\n",
    "        self.name=name\n",
    "        self.price=price\n",
    "        self.deal_price=deal_price\n",
    "        self.ratings=ratings\n",
    "        self.you_save=price-deal_price\n",
    "    def display_product_details(self):\n",
    "        print(\"Product Name: {}\".format(self.name))\n",
    "        print(\"Price: {}\".format(self.price))\n",
    "        print(\"Deal Price: {}\".format(self.deal_price))\n",
    "        print(\"Ratings: {}\".format(self.ratings))\n",
    "        print(\"You save: {}\".format(self.you_save))\n",
    "\n",
    "    def get_deal_price(self):\n",
    "        return self.deal_price\n",
    "\n",
    "class ElectronicItem(Product):\n",
    "\n",
    "    def set_warranty(self,warranty_in_months):\n",
    "        self.warranty_in_months=warranty_in_months\n",
    "    \n",
    "    def get_warranty(self):\n",
    "        return self.warranty_in_months\n",
    "    \n",
    "    def display_electronic_item_details(self):\n",
    "        self.display_product_details()\n",
    "        print(\"Warranty in months: {}\".format(self.warranty_in_months))\n",
    "\n",
    "    def display_product_details(self):\n",
    "        super().display_product_details()\n",
    "        print(\"Warranty in Months: {}\".format(self.warranty_in_months))\n",
    "    \n",
    "class GrossaryItem(Product):\n",
    "\n",
    "    def set_expiry_date(self,expiry_date):\n",
    "        self.expiry_date=expiry_date\n",
    "\n",
    "    def get_expiry_date(self):\n",
    "        return self.expiry_date\n",
    "    \n",
    "    def display_product_details(self):\n",
    "        super().display_product_details()\n",
    "        print(\"Expiry Date: {}\".format(self.expiry_date))\n",
    "\n",
    "class Order():\n",
    "    def __init__(self,delivery_speed,delivery_address):\n",
    "        self.items_in_cart=[]\n",
    "        self.delivery_speed=delivery_speed\n",
    "        self.delivery_address=delivery_address\n",
    "\n",
    "    def add_item(self,product,quantity):\n",
    "        self.items_in_cart.append((product,quantity))\n",
    "\n",
    "    def display_order_details(self):\n",
    "        for product,quantity in self.items_in_cart:\n",
    "            product.display_product_details() #This does not print warranty details when an Electronic item is in the order.\n",
    "            print(\"Quantity: {}\".format(quantity))\n",
    "            print()\n",
    "\n",
    "    def get_total_bill(self):\n",
    "        total_bill=0\n",
    "        for product,quantity in self.items_in_cart:\n",
    "            price=product.get_deal_price()*quantity\n",
    "            total_bill+=price\n",
    "        print(\"Total Bill: {}\".format(total_bill))\n",
    "        return total_bill\n",
    "\n",
    "tv=ElectronicItem(\"TV\",45000,40000,3.5)\n",
    "tv.set_warranty(3)\n",
    "\n",
    "milk=GrossaryItem(\"Milk\",40,25,4)\n",
    "milk.set_expiry_date(\"2024\")\n",
    "\n",
    "my_order=Order(\"Prime Delivery\",\"Hyderabad\")\n",
    "my_order.add_item(tv,1)\n",
    "my_order.add_item(milk,5)\n",
    "\n",
    "my_order.display_order_details()\n",
    "my_order.get_total_bill()\n"
   ]
  },
  {
   "cell_type": "markdown",
   "metadata": {},
   "source": [
    "Overriding Methods\n",
    "Accessing Super Class's Method \n",
    "let's add warranty of ElectronicItem \n",
    "instead of writing and methods to access and modify warranty we can override __init__"
   ]
  },
  {
   "cell_type": "code",
   "execution_count": 9,
   "metadata": {},
   "outputs": [
    {
     "name": "stdout",
     "output_type": "stream",
     "text": [
      "Product Name: TV\n",
      "Price: 45000\n",
      "Deal Price: 40000\n",
      "Ratings: 3.5\n",
      "You save: 5000\n",
      "Warranty in Months: 3\n",
      "Quantity: 1\n",
      "\n",
      "Product Name: Milk\n",
      "Price: 40\n",
      "Deal Price: 25\n",
      "Ratings: 4\n",
      "You save: 15\n",
      "Expiry Date: 2024\n",
      "Quantity: 5\n",
      "\n",
      "Total Bill: 40125\n"
     ]
    },
    {
     "data": {
      "text/plain": [
       "40125"
      ]
     },
     "execution_count": 9,
     "metadata": {},
     "output_type": "execute_result"
    }
   ],
   "source": [
    "class Product:\n",
    "    def __init__(self,name,price,deal_price,ratings):\n",
    "        self.name=name\n",
    "        self.price=price\n",
    "        self.deal_price=deal_price\n",
    "        self.ratings=ratings\n",
    "        self.you_save=price-deal_price\n",
    "    def display_product_details(self):\n",
    "        print(\"Product Name: {}\".format(self.name))\n",
    "        print(\"Price: {}\".format(self.price))\n",
    "        print(\"Deal Price: {}\".format(self.deal_price))\n",
    "        print(\"Ratings: {}\".format(self.ratings))\n",
    "        print(\"You save: {}\".format(self.you_save))\n",
    "\n",
    "    def get_deal_price(self):\n",
    "        return self.deal_price\n",
    "\n",
    "class ElectronicItem(Product):\n",
    "    def __init__(self,name,price,deal_price,ratings,warranty_in_months):\n",
    "        super().__init__(name,price,deal_price,ratings)\n",
    "        self.warranty_in_months=warranty_in_months\n",
    "\n",
    "    def display_electronic_item_details(self):\n",
    "        self.display_product_details()\n",
    "        print(\"Warranty in months: {}\".format(self.warranty_in_months))\n",
    "\n",
    "    def display_product_details(self):\n",
    "        super().display_product_details()\n",
    "        print(\"Warranty in Months: {}\".format(self.warranty_in_months))\n",
    "    \n",
    "class GrossaryItem(Product):\n",
    "\n",
    "    def __init__(self,name,price,deal_price,ratings,expiry_date):\n",
    "        super().__init__(name,price,deal_price,ratings)\n",
    "        self.expiry_date=expiry_date\n",
    "\n",
    "    \n",
    "    def display_product_details(self):\n",
    "        super().display_product_details()\n",
    "        print(\"Expiry Date: {}\".format(self.expiry_date))\n",
    "\n",
    "class Order():\n",
    "    def __init__(self,delivery_speed,delivery_address):\n",
    "        self.items_in_cart=[]\n",
    "        self.delivery_speed=delivery_speed\n",
    "        self.delivery_address=delivery_address\n",
    "\n",
    "    def add_item(self,product,quantity):\n",
    "        self.items_in_cart.append((product,quantity))\n",
    "\n",
    "    def display_order_details(self):\n",
    "        for product,quantity in self.items_in_cart:\n",
    "            product.display_product_details() #This does not print warranty details when an Electronic item is in the order.\n",
    "            print(\"Quantity: {}\".format(quantity))\n",
    "            print()\n",
    "\n",
    "    def get_total_bill(self):\n",
    "        total_bill=0\n",
    "        for product,quantity in self.items_in_cart:\n",
    "            price=product.get_deal_price()*quantity\n",
    "            total_bill+=price\n",
    "        print(\"Total Bill: {}\".format(total_bill))\n",
    "        return total_bill\n",
    "\n",
    "\n",
    "tv=ElectronicItem(\"TV\",45000,40000,3.5,3)\n",
    "\n",
    "milk=GrossaryItem(\"Milk\",40,25,4,\"2024\")\n",
    "\n",
    "my_order=Order(\"Prime Delivery\",\"Hyderabad\")\n",
    "my_order.add_item(tv,1)\n",
    "my_order.add_item(milk,5)\n",
    "\n",
    "my_order.display_order_details()\n",
    "my_order.get_total_bill()\n"
   ]
  },
  {
   "cell_type": "markdown",
   "metadata": {},
   "source": [
    "Object-oriented programming (On-Demand Session)\n",
    "E-coommerce"
   ]
  },
  {
   "cell_type": "code",
   "execution_count": 9,
   "metadata": {},
   "outputs": [
    {
     "name": "stdout",
     "output_type": "stream",
     "text": [
      "\n",
      "Delivery Method: Normal\n",
      "Delivery Address: Hyderabad\n",
      "Products\n",
      "----------------------------------------\n",
      "Product: TV\n",
      "Price: 25000\n",
      "Deal Price: 15000\n",
      "Ratings: 4.5\n",
      "You Saved: 10000\n",
      "warranty: 24 months\n",
      "Quantity: 1\n",
      "\n",
      "Product: milk\n",
      "Price: 40\n",
      "Deal Price: 35\n",
      "Ratings: 4.8\n",
      "You Saved: 5\n",
      "Expiry Date: jan 2023\n",
      "Quantity: 3\n",
      "\n",
      "-----------------------------------------\n",
      "Total Bill: 15155\n",
      "--------------------------------------\n",
      "Product: Lenovo 123\n",
      "Price: 45000\n",
      "Deal Price: 30000\n",
      "Ratings: 4.5\n",
      "You Saved: 15000\n",
      "warranty: 24 months\n",
      "Ram: 16GB\n",
      "Storage: 1 TB SSD\n"
     ]
    }
   ],
   "source": [
    "class Product:\n",
    "    def __init__(self,name,price,deal_price,ratings):\n",
    "        self.name=name\n",
    "        self.price=price\n",
    "        self.deal_price=deal_price\n",
    "        self.ratings=ratings\n",
    "        self.you_saved=price-deal_price\n",
    "\n",
    "    def display_product_details(self):\n",
    "        print(\"Product: {}\".format(self.name))\n",
    "        print(\"Price: {}\".format(self.price))\n",
    "        print(\"Deal Price: {}\".format(self.deal_price))\n",
    "        print(\"Ratings: {}\".format(self.ratings))\n",
    "        print(\"You Saved: {}\".format(self.you_saved))\n",
    "\n",
    "    def get_deal_price(self):\n",
    "        return self.deal_price\n",
    "    \n",
    "class ElectronicItem(Product): #inherited\n",
    "    def __init__(self,name,price,deal_price,ratings, warranty_in_months): #writing superclass method in subclass is method overriding .in electronicitem __init__ method is overriding\n",
    "        super().__init__(name,price,deal_price,ratings) #calling method\n",
    "        self.warranty_in_months=warranty_in_months\n",
    "\n",
    "    def display_product_details(self):\n",
    "        super().display_product_details()\n",
    "        print(\"warranty: {} months\".format(self.warranty_in_months))\n",
    "\n",
    "class GrocerryItem(Product): #inherited\n",
    "    def __init__(self,name,price,deal_price,ratings, expiry_date): #writing superclass method in subclass is method overriding .in electronicitem __init__ method is overriding\n",
    "        super().__init__(name,price,deal_price,ratings) #calling method\n",
    "        self.expiry_date=expiry_date\n",
    "\n",
    "    def display_product_details(self):\n",
    "        super().display_product_details()\n",
    "        print(\"Expiry Date: {}\".format(self.expiry_date))\n",
    "\n",
    "class Laptop(ElectronicItem):\n",
    "    def __init__(self, name, price, deal_price, ratings,warranty_in_months,ram,storage):\n",
    "        super().__init__(name, price, deal_price, ratings, warranty_in_months)\n",
    "        self.ram=ram\n",
    "        self.storage=storage\n",
    "\n",
    "    def display_product_details(self):\n",
    "        print(\"--------------------------------------\")\n",
    "        super().display_product_details()\n",
    "        print(\"Ram: {}\".format(self.ram))\n",
    "        print(\"Storage: {}\".format(self.storage))\n",
    "\n",
    "\n",
    "class Order:\n",
    "    delivery_charges={\n",
    "        \"Normal\": 0,\n",
    "        \"Prime Delivery\": 100\n",
    "    }\n",
    "    def __init__(self,delivery_method,delivery_address):\n",
    "        self.items_in_cart=[]\n",
    "        self.delivery_method=delivery_method\n",
    "        self.delivery_address=delivery_address\n",
    "\n",
    "    def add_item(self,product,quantity):\n",
    "        item=(product,quantity)\n",
    "        self.items_in_cart.append(item)\n",
    "\n",
    "    def display_order_details(self):\n",
    "        print(\"Delivery Method: {}\".format(self.delivery_method))\n",
    "        print(\"Delivery Address: {}\".format(self.delivery_address))\n",
    "        print(\"Products\")\n",
    "        print(\"----------------------------------------\")\n",
    "        for product,quantity in self.items_in_cart:\n",
    "            product.display_product_details()\n",
    "            print(\"Quantity: {}\".format(quantity))\n",
    "            print()\n",
    "        print(\"-----------------------------------------\")\n",
    "        total_bill=self.get_total_bill()\n",
    "        print(\"Total Bill: {}\".format(total_bill))\n",
    "\n",
    "    def get_total_bill(self):\n",
    "        total_bill=0\n",
    "        for product,quantity in self.items_in_cart:\n",
    "            total_bill=total_bill+product.get_deal_price()*quantity\n",
    "\n",
    "        order_delivery_charges=Order.delivery_charges[self.delivery_method]\n",
    "        total_bill=total_bill+order_delivery_charges\n",
    "        return total_bill\n",
    "    \n",
    "    @classmethod\n",
    "    def update_delivery_charges(cls,delivery_method,charges):\n",
    "        cls.delivery_charges[delivery_method]=charges\n",
    "\n",
    "tv=ElectronicItem(\"TV\",25000,15000,4.5,24)\n",
    "\n",
    "#tv.display_product_details()\n",
    "print()\n",
    "milk=GrocerryItem(\"milk\",40,35,4.8,\"jan 2023\")\n",
    "#milk.display_product_details()\n",
    "\n",
    "my_order=Order(\"Normal\",\"Hyderabad\")\n",
    "my_order.add_item(tv,1)\n",
    "my_order.add_item(milk,3)\n",
    "Order.update_delivery_charges(\"Normal\",50)\n",
    "my_order.display_order_details()\n",
    "\n",
    "lenovo_lap=Laptop(\"Lenovo 123\",45000,30000,4.5,24,\"16GB\",\"1 TB SSD\")\n",
    "lenovo_lap.display_product_details()"
   ]
  },
  {
   "cell_type": "markdown",
   "metadata": {},
   "source": [
    "Errors and Exceptions\n",
    "there aretwo major kinds of errors:\n",
    "-->syntax Errors (when code doesn't follow python syntax,even if that code is not executed )\n",
    "-->Exceptions\n"
   ]
  },
  {
   "cell_type": "code",
   "execution_count": 1,
   "metadata": {},
   "outputs": [
    {
     "ename": "SyntaxError",
     "evalue": "unterminated string literal (detected at line 5) (3416815277.py, line 5)",
     "output_type": "error",
     "traceback": [
      "\u001b[1;36m  Cell \u001b[1;32mIn[1], line 5\u001b[1;36m\u001b[0m\n\u001b[1;33m    print(\"World\u001b[0m\n\u001b[1;37m          ^\u001b[0m\n\u001b[1;31mSyntaxError\u001b[0m\u001b[1;31m:\u001b[0m unterminated string literal (detected at line 5)\n"
     ]
    }
   ],
   "source": [
    "#Syntax Errors\n",
    "print(\"Hello\")\n",
    "\n",
    "def greet():\n",
    "    print(\"World"
   ]
  },
  {
   "cell_type": "markdown",
   "metadata": {},
   "source": [
    "Exceptions\n",
    "even code syntax is correct errors caused.Errors detected during execution are called Exceptions\n",
    "Example\n",
    "we wwrote a program to download a video over the internet\n",
    "-->internet is disconnected during the download\n",
    "-->we do not have the space left on the device to download the video"
   ]
  },
  {
   "cell_type": "code",
   "execution_count": 2,
   "metadata": {},
   "outputs": [
    {
     "ename": "ZeroDivisionError",
     "evalue": "division by zero",
     "output_type": "error",
     "traceback": [
      "\u001b[1;31m---------------------------------------------------------------------------\u001b[0m",
      "\u001b[1;31mZeroDivisionError\u001b[0m                         Traceback (most recent call last)",
      "Cell \u001b[1;32mIn[2], line 4\u001b[0m\n\u001b[0;32m      2\u001b[0m \u001b[38;5;28;01mdef\u001b[39;00m \u001b[38;5;21mdivide\u001b[39m(a,b):\n\u001b[0;32m      3\u001b[0m     \u001b[38;5;28;01mreturn\u001b[39;00m a\u001b[38;5;241m/\u001b[39mb\n\u001b[1;32m----> 4\u001b[0m \u001b[43mdivide\u001b[49m\u001b[43m(\u001b[49m\u001b[38;5;241;43m5\u001b[39;49m\u001b[43m,\u001b[49m\u001b[38;5;241;43m0\u001b[39;49m\u001b[43m)\u001b[49m\n",
      "Cell \u001b[1;32mIn[2], line 3\u001b[0m, in \u001b[0;36mdivide\u001b[1;34m(a, b)\u001b[0m\n\u001b[0;32m      2\u001b[0m \u001b[38;5;28;01mdef\u001b[39;00m \u001b[38;5;21mdivide\u001b[39m(a,b):\n\u001b[1;32m----> 3\u001b[0m     \u001b[38;5;28;01mreturn\u001b[39;00m \u001b[43ma\u001b[49m\u001b[38;5;241;43m/\u001b[39;49m\u001b[43mb\u001b[49m\n",
      "\u001b[1;31mZeroDivisionError\u001b[0m: division by zero"
     ]
    }
   ],
   "source": [
    "#Division Example\n",
    "def divide(a,b):\n",
    "    return a/b\n",
    "divide(5,0) #divide(\"5\",\"10\")"
   ]
  },
  {
   "cell_type": "code",
   "execution_count": 3,
   "metadata": {},
   "outputs": [
    {
     "ename": "KeyError",
     "evalue": "'biscuits'",
     "output_type": "error",
     "traceback": [
      "\u001b[1;31m---------------------------------------------------------------------------\u001b[0m",
      "\u001b[1;31mKeyError\u001b[0m                                  Traceback (most recent call last)",
      "Cell \u001b[1;32mIn[3], line 8\u001b[0m\n\u001b[0;32m      6\u001b[0m         \u001b[38;5;28mself\u001b[39m\u001b[38;5;241m.\u001b[39mitems[name]\u001b[38;5;241m+\u001b[39m\u001b[38;5;241m=\u001b[39mquantity\n\u001b[0;32m      7\u001b[0m s\u001b[38;5;241m=\u001b[39mStore()\n\u001b[1;32m----> 8\u001b[0m \u001b[43ms\u001b[49m\u001b[38;5;241;43m.\u001b[39;49m\u001b[43madd_item\u001b[49m\u001b[43m(\u001b[49m\u001b[38;5;124;43m'\u001b[39;49m\u001b[38;5;124;43mbiscuits\u001b[39;49m\u001b[38;5;124;43m'\u001b[39;49m\u001b[43m,\u001b[49m\u001b[38;5;241;43m10\u001b[39;49m\u001b[43m)\u001b[49m\n",
      "Cell \u001b[1;32mIn[3], line 6\u001b[0m, in \u001b[0;36mStore.add_item\u001b[1;34m(self, name, quantity)\u001b[0m\n\u001b[0;32m      5\u001b[0m \u001b[38;5;28;01mdef\u001b[39;00m \u001b[38;5;21madd_item\u001b[39m(\u001b[38;5;28mself\u001b[39m,name,quantity):\n\u001b[1;32m----> 6\u001b[0m     \u001b[38;5;28;43mself\u001b[39;49m\u001b[38;5;241;43m.\u001b[39;49m\u001b[43mitems\u001b[49m\u001b[43m[\u001b[49m\u001b[43mname\u001b[49m\u001b[43m]\u001b[49m\u001b[38;5;241m+\u001b[39m\u001b[38;5;241m=\u001b[39mquantity\n",
      "\u001b[1;31mKeyError\u001b[0m: 'biscuits'"
     ]
    }
   ],
   "source": [
    "#consider the following code,which is used to update the quantity of items in store.\n",
    "class Store:\n",
    "    def __init__(self):\n",
    "        self.items={\"milk\":20,\"bread\":30,}\n",
    "    def add_item(self,name,quantity):\n",
    "        self.items[name]+=quantity\n",
    "s=Store()\n",
    "s.add_item('biscuits',10)"
   ]
  },
  {
   "cell_type": "markdown",
   "metadata": {},
   "source": [
    "Working with Exceptions\n",
    "what happens when your code runs into an exception during execution?\n",
    "The application/program crashes*"
   ]
  },
  {
   "cell_type": "markdown",
   "metadata": {},
   "source": [
    "End-User Applications\n",
    "when you develop applications that are directly used by end-users,\n",
    "you need to handle different possible exceptions in your code so that the applicaton will not crash\n",
    "Reusable Modules\n",
    "when you develop modules that are used by other developers ,you should raise exceptions\n",
    "for different scenarious so that other developers can handle them"
   ]
  },
  {
   "cell_type": "markdown",
   "metadata": {},
   "source": [
    "scenario\n",
    "Money Transfer App\n",
    "let's consider we are creating an app that allows users to transfer money between them.\n",
    "Dev1-->Develop a Class to Model Bank Account\n",
    "  |\n",
    "  |(Reusable Module)\n",
    "Dev2-->Use Bank Account class to implement Money Transfer\n",
    "  |\n",
    "  |(End-User Application)\n",
    "Users"
   ]
  },
  {
   "cell_type": "code",
   "execution_count": 11,
   "metadata": {},
   "outputs": [
    {
     "name": "stdout",
     "output_type": "stream",
     "text": [
      "User 1 Balance: 250/-\n",
      "User 2 Balance: 100/-\n",
      "Transferring 50/- from User 1 to User 2\n",
      "User 1 Balance: 200/-\n",
      "User 2 Balance: 150/-\n"
     ]
    }
   ],
   "source": [
    "class BankAccont:\n",
    "    def __init__(self,account_number):\n",
    "        self.account_number=str(account_number)\n",
    "        self.balance=0\n",
    "\n",
    "    def withdraw(self,amount):\n",
    "        if self.balance>=amount:\n",
    "            self.balance-=amount\n",
    "        else:\n",
    "            print(\"Insufficient Funds\")\n",
    "\n",
    "    def deposit(self,amount):\n",
    "        self.balance+=amount\n",
    "\n",
    "    def get_balance(self):\n",
    "        return self.balance\n",
    "    #end-user\n",
    "def transfer_amount(acc_1,acc_2,amount):\n",
    "    acc_1.withdraw(amount)\n",
    "    acc_2.deposit(amount)\n",
    "\n",
    "user_1=BankAccont(\"001\")\n",
    "user_2=BankAccont(\"002\")\n",
    "user_1.deposit(250)\n",
    "user_2.deposit(100)\n",
    "\n",
    "print(\"User 1 Balance: {}/-\".format(user_1.get_balance()))\n",
    "print(\"User 2 Balance: {}/-\".format(user_2.get_balance()))\n",
    "\n",
    "transfer_amount(user_1,user_2,50)\n",
    "\n",
    "print(\"Transferring 50/- from User 1 to User 2\")\n",
    "print(\"User 1 Balance: {}/-\".format(user_1.get_balance()))\n",
    "print(\"User 2 Balance: {}/-\".format(user_2.get_balance()))\n"
   ]
  },
  {
   "cell_type": "code",
   "execution_count": 12,
   "metadata": {},
   "outputs": [
    {
     "name": "stdout",
     "output_type": "stream",
     "text": [
      "User 1 Balance: 25/-\n",
      "User 2 Balance: 100/-\n",
      "Insufficient Funds\n",
      "Transferring 50/- from User 1 to User 2\n",
      "User 1 Balance: 25/-\n",
      "User 2 Balance: 150/-\n"
     ]
    }
   ],
   "source": [
    "class BankAccont:\n",
    "    def __init__(self,account_number):\n",
    "        self.account_number=str(account_number)\n",
    "        self.balance=0\n",
    "\n",
    "    def withdraw(self,amount):\n",
    "        if self.balance>=amount:\n",
    "            self.balance-=amount\n",
    "        else:\n",
    "            print(\"Insufficient Funds\")\n",
    "\n",
    "    def deposit(self,amount):\n",
    "        self.balance+=amount\n",
    "\n",
    "    def get_balance(self):\n",
    "        return self.balance\n",
    "    #end-user\n",
    "def transfer_amount(acc_1,acc_2,amount):\n",
    "    acc_1.withdraw(amount)\n",
    "    acc_2.deposit(amount)\n",
    "\n",
    "user_1=BankAccont(\"001\")\n",
    "user_2=BankAccont(\"002\")\n",
    "user_1.deposit(25)\n",
    "user_2.deposit(100)\n",
    "\n",
    "print(\"User 1 Balance: {}/-\".format(user_1.get_balance()))\n",
    "print(\"User 2 Balance: {}/-\".format(user_2.get_balance()))\n",
    "\n",
    "transfer_amount(user_1,user_2,50)\n",
    "\n",
    "print(\"Transferring 50/- from User 1 to User 2\")\n",
    "print(\"User 1 Balance: {}/-\".format(user_1.get_balance()))\n",
    "print(\"User 2 Balance: {}/-\".format(user_2.get_balance()))\n"
   ]
  },
  {
   "cell_type": "markdown",
   "metadata": {},
   "source": [
    "Raising Exceptions\n",
    "when your code enters unexpected state,raise an exception to communicate it.\n",
    "Built-in Exceptions\n",
    "-->ZeroDivision Error -->KeyError  -->EOFError  -->Exception -->TYpeError \n",
    "-->OSError -->ValueError -->ArithmeticError .....\n",
    "\n",
    "you can use the built-in exception classes with raise keyword to raise an exception in the program."
   ]
  },
  {
   "cell_type": "code",
   "execution_count": 1,
   "metadata": {},
   "outputs": [
    {
     "ename": "ValueError",
     "evalue": "Unexpected Value!!",
     "output_type": "error",
     "traceback": [
      "\u001b[1;31m---------------------------------------------------------------------------\u001b[0m",
      "\u001b[1;31mValueError\u001b[0m                                Traceback (most recent call last)",
      "Cell \u001b[1;32mIn[1], line 1\u001b[0m\n\u001b[1;32m----> 1\u001b[0m \u001b[38;5;28;01mraise\u001b[39;00m \u001b[38;5;167;01mValueError\u001b[39;00m(\u001b[38;5;124m\"\u001b[39m\u001b[38;5;124mUnexpected Value!!\u001b[39m\u001b[38;5;124m\"\u001b[39m)\n",
      "\u001b[1;31mValueError\u001b[0m: Unexpected Value!!"
     ]
    }
   ],
   "source": [
    "raise ValueError(\"Unexpected Value!!\")"
   ]
  },
  {
   "cell_type": "code",
   "execution_count": 2,
   "metadata": {},
   "outputs": [
    {
     "name": "stdout",
     "output_type": "stream",
     "text": [
      "User 1 Balance: 25/-\n",
      "User 2 Balance: 100/-\n"
     ]
    },
    {
     "ename": "ValueError",
     "evalue": "Insufficient Funds",
     "output_type": "error",
     "traceback": [
      "\u001b[1;31m---------------------------------------------------------------------------\u001b[0m",
      "\u001b[1;31mValueError\u001b[0m                                Traceback (most recent call last)",
      "Cell \u001b[1;32mIn[2], line 30\u001b[0m\n\u001b[0;32m     27\u001b[0m \u001b[38;5;28mprint\u001b[39m(\u001b[38;5;124m\"\u001b[39m\u001b[38;5;124mUser 1 Balance: \u001b[39m\u001b[38;5;132;01m{}\u001b[39;00m\u001b[38;5;124m/-\u001b[39m\u001b[38;5;124m\"\u001b[39m\u001b[38;5;241m.\u001b[39mformat(user_1\u001b[38;5;241m.\u001b[39mget_balance()))\n\u001b[0;32m     28\u001b[0m \u001b[38;5;28mprint\u001b[39m(\u001b[38;5;124m\"\u001b[39m\u001b[38;5;124mUser 2 Balance: \u001b[39m\u001b[38;5;132;01m{}\u001b[39;00m\u001b[38;5;124m/-\u001b[39m\u001b[38;5;124m\"\u001b[39m\u001b[38;5;241m.\u001b[39mformat(user_2\u001b[38;5;241m.\u001b[39mget_balance()))\n\u001b[1;32m---> 30\u001b[0m \u001b[43mtransfer_amount\u001b[49m\u001b[43m(\u001b[49m\u001b[43muser_1\u001b[49m\u001b[43m,\u001b[49m\u001b[43muser_2\u001b[49m\u001b[43m,\u001b[49m\u001b[38;5;241;43m50\u001b[39;49m\u001b[43m)\u001b[49m\n\u001b[0;32m     32\u001b[0m \u001b[38;5;28mprint\u001b[39m(\u001b[38;5;124m\"\u001b[39m\u001b[38;5;124mTransferring 50/- from User 1 to User 2\u001b[39m\u001b[38;5;124m\"\u001b[39m)\n\u001b[0;32m     33\u001b[0m \u001b[38;5;28mprint\u001b[39m(\u001b[38;5;124m\"\u001b[39m\u001b[38;5;124mUser 1 Balance: \u001b[39m\u001b[38;5;132;01m{}\u001b[39;00m\u001b[38;5;124m/-\u001b[39m\u001b[38;5;124m\"\u001b[39m\u001b[38;5;241m.\u001b[39mformat(user_1\u001b[38;5;241m.\u001b[39mget_balance()))\n",
      "Cell \u001b[1;32mIn[2], line 19\u001b[0m, in \u001b[0;36mtransfer_amount\u001b[1;34m(acc_1, acc_2, amount)\u001b[0m\n\u001b[0;32m     18\u001b[0m \u001b[38;5;28;01mdef\u001b[39;00m \u001b[38;5;21mtransfer_amount\u001b[39m(acc_1,acc_2,amount):\n\u001b[1;32m---> 19\u001b[0m     \u001b[43macc_1\u001b[49m\u001b[38;5;241;43m.\u001b[39;49m\u001b[43mwithdraw\u001b[49m\u001b[43m(\u001b[49m\u001b[43mamount\u001b[49m\u001b[43m)\u001b[49m\n\u001b[0;32m     20\u001b[0m     acc_2\u001b[38;5;241m.\u001b[39mdeposit(amount)\n",
      "Cell \u001b[1;32mIn[2], line 10\u001b[0m, in \u001b[0;36mBankAccont.withdraw\u001b[1;34m(self, amount)\u001b[0m\n\u001b[0;32m      8\u001b[0m     \u001b[38;5;28mself\u001b[39m\u001b[38;5;241m.\u001b[39mbalance\u001b[38;5;241m-\u001b[39m\u001b[38;5;241m=\u001b[39mamount\n\u001b[0;32m      9\u001b[0m \u001b[38;5;28;01melse\u001b[39;00m:\n\u001b[1;32m---> 10\u001b[0m     \u001b[38;5;28;01mraise\u001b[39;00m \u001b[38;5;167;01mValueError\u001b[39;00m(\u001b[38;5;124m\"\u001b[39m\u001b[38;5;124mInsufficient Funds\u001b[39m\u001b[38;5;124m\"\u001b[39m)\n",
      "\u001b[1;31mValueError\u001b[0m: Insufficient Funds"
     ]
    }
   ],
   "source": [
    "class BankAccont:\n",
    "    def __init__(self,account_number):\n",
    "        self.account_number=str(account_number)\n",
    "        self.balance=0\n",
    "\n",
    "    def withdraw(self,amount):\n",
    "        if self.balance>=amount:\n",
    "            self.balance-=amount\n",
    "        else:\n",
    "            raise ValueError(\"Insufficient Funds\")\n",
    "\n",
    "    def deposit(self,amount):\n",
    "        self.balance+=amount\n",
    "\n",
    "    def get_balance(self):\n",
    "        return self.balance\n",
    "    #end-user\n",
    "def transfer_amount(acc_1,acc_2,amount):\n",
    "    acc_1.withdraw(amount)\n",
    "    acc_2.deposit(amount)\n",
    "\n",
    "user_1=BankAccont(\"001\")\n",
    "user_2=BankAccont(\"002\")\n",
    "user_1.deposit(25)\n",
    "user_2.deposit(100)\n",
    "\n",
    "print(\"User 1 Balance: {}/-\".format(user_1.get_balance()))\n",
    "print(\"User 2 Balance: {}/-\".format(user_2.get_balance()))\n",
    "\n",
    "transfer_amount(user_1,user_2,50)\n",
    "\n",
    "print(\"Transferring 50/- from User 1 to User 2\")\n",
    "print(\"User 1 Balance: {}/-\".format(user_1.get_balance()))\n",
    "print(\"User 2 Balance: {}/-\".format(user_2.get_balance()))\n"
   ]
  },
  {
   "cell_type": "markdown",
   "metadata": {},
   "source": [
    "Handling Exceptions\n",
    "Python provides a way to catch the exceptions that were raised so that they can be properly handled.\n",
    "\n",
    "-->Exceptions can be handled with try-except block\n",
    "\n",
    "try:\n",
    "#write code that \n",
    "#might cause exceptions.\n",
    "except:\n",
    "#The code to be run when\n",
    "#there is an exception."
   ]
  },
  {
   "cell_type": "code",
   "execution_count": 4,
   "metadata": {},
   "outputs": [
    {
     "name": "stdout",
     "output_type": "stream",
     "text": [
      "User 1 Balance: 250/-\n",
      "User 2 Balance: 100/-\n",
      "True\n",
      "Transferring 50/- from User 1 to User 2\n",
      "User 1 Balance: 200/-\n",
      "User 2 Balance: 150/-\n"
     ]
    }
   ],
   "source": [
    "class BankAccont:\n",
    "    def __init__(self,account_number):\n",
    "        self.account_number=str(account_number)\n",
    "        self.balance=0\n",
    "\n",
    "    def withdraw(self,amount):\n",
    "        if self.balance>=amount:\n",
    "            self.balance-=amount\n",
    "        else:\n",
    "            raise ValueError(\"Insufficient Funds\")\n",
    "\n",
    "    def deposit(self,amount):\n",
    "        self.balance+=amount\n",
    "\n",
    "    def get_balance(self):\n",
    "        return self.balance\n",
    "    #end-user\n",
    "def transfer_amount(acc_1,acc_2,amount):\n",
    "    try:\n",
    "        acc_1.withdraw(amount)\n",
    "        acc_2.deposit(amount)\n",
    "        return True\n",
    "    except:\n",
    "        return False\n",
    "\n",
    "user_1=BankAccont(\"001\")\n",
    "user_2=BankAccont(\"002\")\n",
    "user_1.deposit(250)\n",
    "user_2.deposit(100)\n",
    "\n",
    "print(\"User 1 Balance: {}/-\".format(user_1.get_balance()))\n",
    "print(\"User 2 Balance: {}/-\".format(user_2.get_balance()))\n",
    "\n",
    "print(transfer_amount(user_1,user_2,50))\n",
    "\n",
    "print(\"Transferring 50/- from User 1 to User 2\")\n",
    "print(\"User 1 Balance: {}/-\".format(user_1.get_balance()))\n",
    "print(\"User 2 Balance: {}/-\".format(user_2.get_balance()))\n"
   ]
  },
  {
   "cell_type": "markdown",
   "metadata": {},
   "source": [
    "Reusable Modules(dev 1)\n",
    "while developing reusable modules,we need to raise exceptions to stop our code from being used in bad way\n",
    "End-User Applications\n",
    "while developing end-user applications,we need to handle Exceptions so that application will not crash when used."
   ]
  },
  {
   "cell_type": "markdown",
   "metadata": {},
   "source": [
    "Handling Specific Exception\n",
    "we can specifically mention the name of exception to catch all exceptions of that speciific type\n",
    "\n",
    "try:\n",
    "#write code that \n",
    "#might cause exceptions.\n",
    "except Exception:\n",
    "#The code to be run when\n",
    "#there is an exception."
   ]
  },
  {
   "cell_type": "code",
   "execution_count": 6,
   "metadata": {},
   "outputs": [
    {
     "name": "stdout",
     "output_type": "stream",
     "text": [
      "Input should be an integer\n"
     ]
    }
   ],
   "source": [
    "try:\n",
    "    a=int(input())\n",
    "    b=int(input())\n",
    "    c=a/b\n",
    "    print(c)\n",
    "except ZeroDivisionError:\n",
    "    print(\"Denominator can't be 0\")\n",
    "except ValueError:\n",
    "    print(\"Input should be an integer\")\n",
    "except:\n",
    "    print(\"Something went wrong\")"
   ]
  },
  {
   "cell_type": "code",
   "execution_count": 7,
   "metadata": {},
   "outputs": [
    {
     "name": "stdout",
     "output_type": "stream",
     "text": [
      "Unhandled Excepttion\n"
     ]
    }
   ],
   "source": [
    "try:\n",
    "    a=int(input())\n",
    "    b=int(input())\n",
    "    c=a/b\n",
    "    print(c)\n",
    "except ZeroDivisionError:\n",
    "    print(\"Denominator can't be 0\")\n",
    "except:\n",
    "    print(\"Unhandled Excepttion\")"
   ]
  },
  {
   "cell_type": "markdown",
   "metadata": {},
   "source": [
    "Handling Specific Exception\n",
    "We can also access the handled exception in an object\n",
    "try:\n",
    "#write code that \n",
    "#might cause exceptions.\n",
    "except Exception as e:\n",
    "#The code to be run when\n",
    "#there is an exception."
   ]
  },
  {
   "cell_type": "code",
   "execution_count": 10,
   "metadata": {},
   "outputs": [
    {
     "name": "stdout",
     "output_type": "stream",
     "text": [
      "User 1 Balance: 25/-\n",
      "User 2 Balance: 100/-\n",
      "Insufficient Funds\n",
      "<class 'ValueError'>\n",
      "('Insufficient Funds',)\n",
      "False\n",
      "Transferring 50/- from User 1 to User 2\n",
      "User 1 Balance: 25/-\n",
      "User 2 Balance: 100/-\n"
     ]
    }
   ],
   "source": [
    "class BankAccont:\n",
    "    def __init__(self,account_number):\n",
    "        self.account_number=str(account_number)\n",
    "        self.balance=0\n",
    "\n",
    "    def withdraw(self,amount):\n",
    "        if self.balance>=amount:\n",
    "            self.balance-=amount\n",
    "        else:\n",
    "            raise ValueError(\"Insufficient Funds\")\n",
    "\n",
    "    def deposit(self,amount):\n",
    "        self.balance+=amount\n",
    "\n",
    "    def get_balance(self):\n",
    "        return self.balance\n",
    "    #end-user\n",
    "def transfer_amount(acc_1,acc_2,amount):\n",
    "    try:\n",
    "        acc_1.withdraw(amount)\n",
    "        acc_2.deposit(amount)\n",
    "        return True\n",
    "    except ValueError as e:\n",
    "        print(str(e))\n",
    "        print(type(e))\n",
    "        print(e.args)\n",
    "        return False\n",
    "\n",
    "user_1=BankAccont(\"001\")\n",
    "user_2=BankAccont(\"002\")\n",
    "user_1.deposit(25)\n",
    "user_2.deposit(100)\n",
    "\n",
    "print(\"User 1 Balance: {}/-\".format(user_1.get_balance()))\n",
    "print(\"User 2 Balance: {}/-\".format(user_2.get_balance()))\n",
    "\n",
    "print(transfer_amount(user_1,user_2,50))\n",
    "\n",
    "print(\"Transferring 50/- from User 1 to User 2\")\n",
    "print(\"User 1 Balance: {}/-\".format(user_1.get_balance()))\n",
    "print(\"User 2 Balance: {}/-\".format(user_2.get_balance()))\n"
   ]
  },
  {
   "cell_type": "markdown",
   "metadata": {},
   "source": [
    "Handling Multiple Exceptions\n",
    "we can write multiple exception blocks to handle different types of exceptions differently\n",
    "try:\n",
    "#write code that \n",
    "#might cause exceptions.\n",
    "\n",
    "except Exception1:\n",
    "#The code to be run when\n",
    "#there is an exception.\n",
    "\n",
    "except Exception2:\n",
    "#The code to be run when\n",
    "#there is an exception."
   ]
  },
  {
   "cell_type": "code",
   "execution_count": 11,
   "metadata": {},
   "outputs": [
    {
     "name": "stdout",
     "output_type": "stream",
     "text": [
      "Input should be an integer\n"
     ]
    }
   ],
   "source": [
    "try:\n",
    "    a=int(input())\n",
    "    b=int(input())\n",
    "    c=a/b\n",
    "    print(c)\n",
    "except ZeroDivisionError:\n",
    "    print(\"Denominator can't be 0\")\n",
    "except ValueError:\n",
    "    print(\"Input should be an integer\")\n",
    "except EOFError:\n",
    "    print(\"Two input integers should be provided\")\n",
    "except:\n",
    "    print(\"Something went wrong\")"
   ]
  }
 ],
 "metadata": {
  "kernelspec": {
   "display_name": "Python 3",
   "language": "python",
   "name": "python3"
  },
  "language_info": {
   "codemirror_mode": {
    "name": "ipython",
    "version": 3
   },
   "file_extension": ".py",
   "mimetype": "text/x-python",
   "name": "python",
   "nbconvert_exporter": "python",
   "pygments_lexer": "ipython3",
   "version": "3.12.5"
  }
 },
 "nbformat": 4,
 "nbformat_minor": 2
}
